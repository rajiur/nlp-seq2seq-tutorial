{
 "cells": [
  {
   "cell_type": "markdown",
   "metadata": {},
   "source": [
    "---\n",
    "\n",
    "<div style=\"text-align: center; font-size: 36px;\"> <b> COSC6336: Homework-3 Report </b></div>\n",
    "<div style=\"text-align: center; font-size: small;\">submitted by</div>\n",
    "<div style=\"text-align: center; font-size: large;\">Mohammad Rajiur Rahman</div>\n",
    "<div style=\"text-align: center; font-size: small;\">UHID: XXXXXXX </div>\n",
    "\n",
    "\n",
    "---"
   ]
  },
  {
   "cell_type": "markdown",
   "metadata": {},
   "source": [
    "# Introduction\n",
    "\n",
    "The aim of the work is to learn sequence to sequence (seq2seq) models. Introduced for the first time in 2014 by Google, a sequence to sequence model aims to map a fixed-length input with a fixed-length output where the length of the input and output may differ. From the high-level view, a seq2seq model has encoder, decoder and intermediate step as its main components. The class tutorial shows an excellent example of a minimalistic implementation of seq2seq model. The goal of the homework is to make this model efficient using batches and analyze the models' performance.\n",
    "\n",
    "The overall architechture of the class tutorial was kept which is uses a single LSTM layer with one direction on both the encoder and decoder. Two models were designed. One with attention and another without attention. Both models works with batches of input. <b>The model with attention achieved 98.80% accuracy on test test.</b>"
   ]
  },
  {
   "cell_type": "markdown",
   "metadata": {},
   "source": [
    "# Dataset\n",
    "\n",
    "The task uses a toy dataset from automatically-generated data. It has 20000 records for training and 5000 for validation. The test dataset of 2000 records are fixed (provided in a text file: <a href='test.txt'>test.txt</a>). The test dataset is different in terms of length of input and output compared to training and validation dataset\n",
    "\n",
    "|       \t| Train Input \t| Train Output \t| Validation Input \t| Validation Ouptut \t| Test Input \t| Test output \t|\n",
    "|:-----:\t|------------:\t|-------------:\t|-----------------:\t|------------------:\t|-----------:\t|------------:\t|\n",
    "| count \t|       20000 \t|        20000 \t|             5000 \t|              5000 \t|       5000 \t|        5000 \t|\n",
    "| mean  \t|       13.02 \t|         5.77 \t|            12.92 \t|              5.72 \t|      23.80 \t|        6.82 \t|\n",
    "| std   \t|        5.04 \t|         1.94 \t|             5.03 \t|              1.96 \t|      10.27 \t|        2.51 \t|\n",
    "| min   \t|           3 \t|            1 \t|                3 \t|                 1 \t|          3 \t|           2 \t|\n",
    "| 25%   \t|           9 \t|            4 \t|                9 \t|                 4 \t|         15 \t|           5 \t|\n",
    "| 50%   \t|          13 \t|            6 \t|               13 \t|                 6 \t|         23 \t|           7 \t|\n",
    "| 75%   \t|          17 \t|            7 \t|               17 \t|                 7 \t|         32 \t|           9 \t|\n",
    "| max   \t|          28 \t|           10 \t|               28 \t|                10 \t|         58 \t|          13 \t|"
   ]
  },
  {
   "cell_type": "markdown",
   "metadata": {},
   "source": [
    "Importing required libraries"
   ]
  },
  {
   "cell_type": "code",
   "execution_count": 44,
   "metadata": {
    "colab": {},
    "colab_type": "code",
    "id": "FRMEFVeP6FsX"
   },
   "outputs": [],
   "source": [
    "import os\n",
    "import random\n",
    "import torch\n",
    "import torch.nn as nn\n",
    "import torch.optim as optim\n",
    "import pandas as pd\n",
    "import os.path\n",
    "from os import path\n",
    "import datetime\n",
    "import matplotlib.pyplot as plt\n",
    "import matplotlib.ticker as ticker\n",
    "import numpy as np"
   ]
  },
  {
   "cell_type": "markdown",
   "metadata": {},
   "source": [
    "Setting up environment (cuda, if available otherwise cpu)"
   ]
  },
  {
   "cell_type": "code",
   "execution_count": 45,
   "metadata": {},
   "outputs": [],
   "source": [
    "device = 'cpu'\n",
    "#uncomment following line if cuda is available\n",
    "#device = torch.device('cuda' if torch.cuda.is_available() else 'cpu')"
   ]
  },
  {
   "cell_type": "markdown",
   "metadata": {},
   "source": [
    "**Populate Dataset**"
   ]
  },
  {
   "cell_type": "code",
   "execution_count": 46,
   "metadata": {
    "colab": {},
    "colab_type": "code",
    "id": "CznvYR656Fsb"
   },
   "outputs": [],
   "source": [
    "# nothing changed from baseline code\n",
    "torch.manual_seed(1)\n",
    "random.seed(1)\n",
    "def sorting_letters_dataset(size):\n",
    "    dataset = []\n",
    "    for _ in range(size):\n",
    "        x = []\n",
    "        for _ in range(random.randint(3, 10)):\n",
    "            letter = chr(random.randint(97, 122))\n",
    "            repeat = [letter] * random.randint(1, 3)\n",
    "            x.extend(repeat)\n",
    "        y = sorted(set(x))\n",
    "        dataset.append((x, y))\n",
    "    return zip(*dataset)\n",
    "\n",
    "train_inp, train_out = sorting_letters_dataset(20_000)\n",
    "valid_inp, valid_out = sorting_letters_dataset(5_000)"
   ]
  },
  {
   "cell_type": "code",
   "execution_count": null,
   "metadata": {},
   "outputs": [],
   "source": []
  },
  {
   "cell_type": "markdown",
   "metadata": {},
   "source": [
    "**Create Vocabulary**"
   ]
  },
  {
   "cell_type": "code",
   "execution_count": 47,
   "metadata": {
    "colab": {},
    "colab_type": "code",
    "id": "SM_M8mL46Fsf"
   },
   "outputs": [],
   "source": [
    "# nothing changed from baseline code\n",
    "class Vocab:\n",
    "    def __init__(self, vocab):\n",
    "        self.itos = vocab\n",
    "        self.stoi = {d:i for i, d in enumerate(self.itos)}\n",
    "        \n",
    "    def __len__(self):\n",
    "        return len(self.itos) \n",
    "    \n",
    "src_vocab = Vocab(['<pad>'] + [chr(i+97) for i in range(26)])\n",
    "tgt_vocab = Vocab(['<pad>'] + [chr(i+97) for i in range(26)] + ['<stop>','<start>'] )"
   ]
  },
  {
   "cell_type": "code",
   "execution_count": 48,
   "metadata": {},
   "outputs": [],
   "source": [
    "START_IX = tgt_vocab.stoi['<start>']\n",
    "STOP_IX  = tgt_vocab.stoi['<stop>']\n",
    "PAD_IX = tgt_vocab.stoi['<pad>']"
   ]
  },
  {
   "cell_type": "markdown",
   "metadata": {
    "colab_type": "text",
    "id": "TC-k7j8A6Fsj"
   },
   "source": [
    "**Process Data**\n",
    "\n",
    "Converting data to numeric values."
   ]
  },
  {
   "cell_type": "code",
   "execution_count": 49,
   "metadata": {
    "colab": {},
    "colab_type": "code",
    "id": "5e4pB4oA6Fsk"
   },
   "outputs": [],
   "source": [
    "# minor chages from baseline code\n",
    "def map_elems(elems, mapper, istarget=False):\n",
    "    if istarget: # add stop if target\n",
    "         return [mapper[elem] for elem in elems]+[STOP_IX]\n",
    "    else: \n",
    "         return [mapper[elem] for elem in elems]\n",
    "\n",
    "def map_many_elems(many_elems, mapper, istarget):\n",
    "    return [map_elems(elems, mapper, istarget) for elems in many_elems]\n",
    "\n",
    "train_x = map_many_elems(train_inp, src_vocab.stoi, istarget=False)\n",
    "train_y = map_many_elems(train_out, tgt_vocab.stoi, istarget=True) # add stop token if target\n",
    "\n",
    "valid_x = map_many_elems(valid_inp, src_vocab.stoi, istarget=False)\n",
    "valid_y = map_many_elems(valid_out, tgt_vocab.stoi, istarget=True) # add stop token if target"
   ]
  },
  {
   "cell_type": "markdown",
   "metadata": {},
   "source": [
    "**Batching Process** \n",
    "\n",
    "Functions to Create Batch of Data with Padding \n"
   ]
  },
  {
   "cell_type": "code",
   "execution_count": 50,
   "metadata": {},
   "outputs": [],
   "source": [
    "# Pad a sequence with the PAD symbol\n",
    "def pad_seq(seq, max_length):\n",
    "    result = [] + seq\n",
    "    result += [PAD_IX for i in range(max_length - len(seq))]\n",
    "    return result\n",
    "\n",
    "# Pad batch of sequesnces\n",
    "def pad_batch(seqs, max_length):\n",
    "    return [pad_seq(x, max_length) for x in seqs]\n",
    "\n",
    "# process batch: sort them by length of sequences, add stopad them \n",
    "def process_batch(input_seqs, target_seqs):\n",
    "    \n",
    "    # Zip into pairs, sort by length (descending), unzip\n",
    "    seq_pairs = sorted(zip(input_seqs, target_seqs), key=lambda p: len(p[0]), reverse=True)\n",
    "    input_seqs, target_seqs = zip(*seq_pairs)\n",
    "    \n",
    "    # For input and target sequences, get array of lengths and pad with 0s to max length\n",
    "    input_lengths = [len(s) for s in input_seqs]\n",
    "    input_padded = [pad_seq(s, max(input_lengths)) for s in input_seqs] # max_seq_len_input = max(input_lengths)\n",
    "    target_lengths = [len(s) for s in target_seqs]\n",
    "    target_padded = [pad_seq(s, max(target_lengths)) for s in target_seqs] # max_seq_len_target = max(input_lengths)\n",
    "    \n",
    "    # Turn padded arrays into tensors \n",
    "    input_var = (torch.LongTensor(input_padded)) # (batch_size x max_seq_len_input) \n",
    "    target_var = (torch.LongTensor(target_padded)).transpose(0, 1) #transpose target into (max_seq_len_target x batch_size)\n",
    "    input_lengths = (torch.LongTensor(input_lengths)) # batch_size\n",
    "    target_lengths = (torch.LongTensor(target_lengths)) # batch_size\n",
    "    \n",
    "    input_var = input_var.to(device) # move to device\n",
    "    target_var = target_var.to(device) # move to device\n",
    "    \n",
    "    return input_var, input_lengths, target_var, target_lengths\n"
   ]
  },
  {
   "cell_type": "markdown",
   "metadata": {},
   "source": [
    "# Architecture\n",
    "\n",
    "The batched sequence to sequence model process a batch of sequences in parallel. The main technic lies in creating batches of data and then tranposing targets/output for training/evaluating as the target sequences are sent to decoder in batches. Decoder in models without batching takes one token at a single time stamp, where as decoder with batching takes batch_size times tokens at a single time stamp. "
   ]
  },
  {
   "cell_type": "markdown",
   "metadata": {},
   "source": [
    "### Batch Encoder\n",
    "\n",
    "Embedded input sequences (batch_size x max_seq_len_input x emb_dim) are packed (1 x batch_size*max_seq_len_input*emb_dim) before sending to LSTM layer to get rid of pading. The output of LSTM layer is unpacked to get back to padded batches of outputs (batch_size x max_seq_len_input x lstm_size). Both packing and unpacking, along with LSTM, use <code>batch_first = True</code>"
   ]
  },
  {
   "cell_type": "code",
   "execution_count": 51,
   "metadata": {},
   "outputs": [
    {
     "data": {
      "text/plain": [
       "BatchEncoder(\n",
       "  (emb): Embedding(27, 64, padding_idx=0)\n",
       "  (lstm): LSTM(64, 128, batch_first=True)\n",
       "  (drop): Dropout(p=0.1, inplace=False)\n",
       ")"
      ]
     },
     "execution_count": 51,
     "metadata": {},
     "output_type": "execute_result"
    }
   ],
   "source": [
    "# Modified to process batch of inputs in parallel\n",
    "class BatchEncoder(nn.Module):\n",
    "    def __init__(self, vocab_size, emb_dim, lstm_size, z_type, dropout=0.1):\n",
    "        super(BatchEncoder, self).__init__()\n",
    "        self.z_index = z_type\n",
    "        \n",
    "        self.emb = nn.Embedding(vocab_size, emb_dim,padding_idx=PAD_IX)\n",
    "        self.lstm = nn.LSTM(emb_dim, lstm_size, batch_first=True)\n",
    "        self.drop = nn.Dropout(dropout)\n",
    "    \n",
    "    def forward(self, input_seqs, input_lengths):\n",
    "        \n",
    "        # input_seqs shape: # batch_size x max_seq_len_input\n",
    "        embedded = self.emb(input_seqs) # batch_size x max_seq_len_input x emb_dim\n",
    "        embedded = self.drop(embedded) # batch_size x max_seq_len_input x emb_dim\n",
    "        \n",
    "        packed = torch.nn.utils.rnn.pack_padded_sequence(embedded, input_lengths.cpu().numpy(), batch_first=True)\n",
    "        outputs, (h_n, c_n) = self.lstm(packed)\n",
    "\n",
    "        outputs, output_lengths = torch.nn.utils.rnn.pad_packed_sequence(outputs, batch_first=True)  # unpack (back to padded)\n",
    "        # outputs shape:  batch_size x max_seq_len_input x lstm_size\n",
    "        \n",
    "        if self.z_index == 1:\n",
    "            return h_n[0], c_n[0] # (max_seq_len_input x lstm_dim)\n",
    "        else:\n",
    "            return outputs # batch_size x max_seq_len_input x lstm_size\n",
    "\n",
    "batchencoder = BatchEncoder(vocab_size=len(src_vocab), emb_dim=64, lstm_size=128, z_type=1)\n",
    "batchencoder"
   ]
  },
  {
   "cell_type": "markdown",
   "metadata": {},
   "source": [
    "### Decoders\n",
    "\n",
    "Two decoders were implemented: simple batched decoder and batched decoder with attentiom. Major contribution of this work over baseline example:\n",
    "<ul>\n",
    "    <li>Both the decoder implments batch processing of input for training and prediction. </li>\n",
    "    <li>They also implements variable 'Teacher Forcing' (the baseline model has 100% teacher forcing).</li>\n",
    "</ul>    "
   ]
  },
  {
   "cell_type": "markdown",
   "metadata": {},
   "source": [
    "### Batch Decoder\n",
    "\n"
   ]
  },
  {
   "cell_type": "code",
   "execution_count": 52,
   "metadata": {},
   "outputs": [],
   "source": [
    "# Modified to process batch of inputs in parallel\n",
    "class BatchDecoder(nn.Module):\n",
    "    def __init__(self, vocab_size, emb_dim, lstm_size, dropout=0.5, teacher_forcing_ratio=1.0):\n",
    "        super(BatchDecoder, self).__init__()\n",
    "        self.teacher_forcing_ratio = teacher_forcing_ratio\n",
    "        self.emb = nn.Embedding(vocab_size, emb_dim,padding_idx=PAD_IX) #ignore pad tokens \n",
    "        self.lstm = nn.LSTMCell(emb_dim, lstm_size)\n",
    "        self.clf = nn.Linear(lstm_size, vocab_size)\n",
    "        self.drop = nn.Dropout(dropout)\n",
    "        self.objective = nn.CrossEntropyLoss(reduction=\"none\", ignore_index = PAD_IX) #ingore pads for loss calclation\n",
    "        \n",
    "    def forward(self, state, targets, target_lengths, curr_tokens):\n",
    "        device = next(self.parameters()).device\n",
    "        \n",
    "        # tragets shape: max_seq_len_target x batch_size \n",
    "        # target_lenghts shape: batch_size\n",
    "        # curr_tokens shape: batch_size \n",
    "        \n",
    "        loss = 0\n",
    "        \n",
    "        for i in range(targets.size(0)): # check i-th seq of all seqs in the batch\n",
    "            inp = curr_tokens\n",
    "\n",
    "            emb = self.emb(inp) #batch_size x emb_dim\n",
    "            emb = self.drop(emb) #batch_size x emb_dim\n",
    "            \n",
    "            state = self.lstm(emb, state) #batch_size x lstm_size\n",
    "            q_i, _ = state #batch_size x lstm_size\n",
    "            q_i = self.drop(q_i) #batch_size x lstm_size\n",
    "            scores = self.clf(q_i) # batch_size x tgt_vocab_len\n",
    "            \n",
    "            # loss ignores pads at tokens for loss calculation\n",
    "            loss += self.objective(scores, targets[i]) #batch_size\n",
    "            \n",
    "            # checks if random probability is lower than teacher forcing ration\n",
    "            # if teacher_forcing_ratio=1.0, 100% teacher forcing is applied\n",
    "            if random.random() < self.teacher_forcing_ratio: \n",
    "                curr_tokens = targets[i]  # Ground truth as next token\n",
    "            else:\n",
    "                soft_scores = torch.softmax(scores, dim=1)\n",
    "                curr_tokens = torch.argmax(scores, dim=1) # predicted output as next token\n",
    "\n",
    "        return loss.sum()/target_lengths.sum() # sum (loss per batch) / (length of each seq in the batch)\n",
    "    \n",
    "    def predict(self, state, curr_tokens, maxlen):\n",
    "        preds = [] # list to append predictions\n",
    "        # curr_tokens shape: batch_size\n",
    "\n",
    "        # loop through for predict batch_size tokens at each time step for batch_size seuquences \n",
    "        # maxlen is max_seq_len_target\n",
    "        for i in range(maxlen):\n",
    "            inp = curr_tokens #batch_size x emb_dim\n",
    "            emb = self.emb(inp) #batch_size x emb_dim\n",
    "            state = self.lstm(emb, state) #batch_size x lstm_size\n",
    "            h_i, _ = state #batch_size x lstm_size\n",
    "            scores = self.clf(h_i) # batch_size x tgt_vocab_len\n",
    "            scores = torch.softmax(scores, dim=1) # batch_size x tgt_vocab_len\n",
    "            pred = torch.argmax(scores, dim=1) # batch_size\n",
    "            curr_tokens = pred # batch_size\n",
    "            preds.append(pred)\n",
    "            \n",
    "        # transpose the predicted output to batch_size x max_seq_len_target\n",
    "        # use len(target sequence) or <stop> token to remove extra predicted words\n",
    "        finalpreds =  []\n",
    "        for j in range(len(preds[0])): # loop throgh batch\n",
    "            temp = []\n",
    "            for i in range(len(preds)): # for 0 to len(sequences)\n",
    "                l = preds[i].cpu().data.numpy() \n",
    "                if(l[j] != STOP_IX): # if not a <stop> token\n",
    "                    temp.append(l[j]) # append to sequence\n",
    "            finalpreds.append(temp) # append to sequence to batch     \n",
    "        return finalpreds, preds "
   ]
  },
  {
   "cell_type": "markdown",
   "metadata": {},
   "source": [
    "### Batch Decoder with Attention"
   ]
  },
  {
   "cell_type": "code",
   "execution_count": 53,
   "metadata": {},
   "outputs": [],
   "source": [
    "# no changes from the baseline code\n",
    "class BatchAttention(nn.Module):\n",
    "    def __init__(self, input_dim, attn_dim):\n",
    "        super(BatchAttention, self).__init__()\n",
    "        self.W = nn.Linear(input_dim, attn_dim)\n",
    "        self.v = nn.Linear(attn_dim, 1, bias=False)\n",
    "        \n",
    "    def forward(self, dec_hidden, enc_outs):\n",
    "        seqlen = enc_outs.size(1)\n",
    "        \n",
    "        repeat_h = dec_hidden.unsqueeze(1)  # make room to repeat on seqlen dim\n",
    "        repeat_h = repeat_h.repeat(1, seqlen, 1)  # (1, seqlen, hidden)\n",
    "\n",
    "        concat_h = torch.cat((enc_outs, repeat_h), dim=2) # (1, seqlen, hidden*2)\n",
    "        \n",
    "        scores = self.v(torch.tanh(self.W(concat_h))) # (1, seqlen, 1)\n",
    "        probs = torch.softmax(scores, dim=1)\n",
    "        \n",
    "        weighted = enc_outs * probs # (1, seqlen, hidden)\n",
    "        \n",
    "        context = torch.sum(weighted, dim=1, keepdim=False) # (1, hidden)\n",
    "        combined = torch.cat((dec_hidden, context), dim=1)  # (1, hidden*2)\n",
    "        \n",
    "        return combined"
   ]
  },
  {
   "cell_type": "code",
   "execution_count": 54,
   "metadata": {},
   "outputs": [],
   "source": [
    "# Modified to process batch of inputs in parallel\n",
    "class BatchAttentionDecoder(nn.Module):\n",
    "    def __init__(self, vocab_size, emb_dim, lstm_size, attn_size, dropout=0.5, teacher_forcing_ratio=1.0):\n",
    "        super(BatchAttentionDecoder, self).__init__()\n",
    "        \n",
    "        self.lstm_size = lstm_size\n",
    "        self.teacher_forcing_ratio = teacher_forcing_ratio\n",
    "        self.emb = nn.Embedding(vocab_size, emb_dim, padding_idx=PAD_IX)\n",
    "        self.lstm = nn.LSTMCell(emb_dim, lstm_size)\n",
    "        self.attn = BatchAttention(lstm_size * 2, attn_size)\n",
    "        self.clf = nn.Linear(lstm_size * 2, vocab_size)\n",
    "        \n",
    "        self.drop = nn.Dropout(dropout)\n",
    "        self.objective = nn.CrossEntropyLoss(reduction=\"none\", ignore_index = PAD_IX)\n",
    "    \n",
    "    \n",
    "    def init_state(self, device, batch_size):\n",
    "        # no change in code for init_state\n",
    "        h_0 = torch.zeros(batch_size, self.lstm_size).to(device)  # (batch, hidden_size)\n",
    "        c_0 = torch.zeros(batch_size, self.lstm_size).to(device)  # (batch, hidden_size)\n",
    "        return h_0, c_0\n",
    "        \n",
    "    def forward(self, enc_outs, targets, target_lengths, curr_tokens):\n",
    "        loss = 0\n",
    "        \n",
    "        # tragets shape: max_seq_len_target x batch_size \n",
    "        # target_lenghts shape: batch_size\n",
    "        # curr_tokens shape: batch_size \n",
    "        \n",
    "        batch_size = targets.size(1)\n",
    "        max_seq_len = targets.size(0)\n",
    "        \n",
    "        # intilialize the state to 0\n",
    "        state = self.init_state(device, batch_size)\n",
    "        \n",
    "        for i in range(max_seq_len):# check i-th seq of all seqs in the batch\n",
    "            \n",
    "            inp = curr_tokens\n",
    "            emb = self.emb(inp) # batch_size x emb_dim\n",
    "            emb = self.drop(emb) #batch_size x emb_dim\n",
    "            \n",
    "            state = self.lstm(emb, state) # batch_size x lstm_size\n",
    "            q_i, _ = state  # batch_size x lstm_size\n",
    "            q_i = self.drop(q_i) # batch_size x lstm_size\n",
    "            \n",
    "            combined = self.attn(q_i, enc_outs) # batch_size x lstm_size*2\n",
    "            \n",
    "            scores = self.clf(combined) # batch_size x tgt_vocab_size\n",
    "            loss += self.objective(scores, targets[i]) # batch_size\n",
    "            \n",
    "            # checks if random probability is lower than teacher forcing ration\n",
    "            # if teacher_forcing_ratio=1.0, 100% teacher forcing is applied\n",
    "            if random.random() < self.teacher_forcing_ratio: # Teacher Forcing Ration = 0.5\n",
    "                curr_tokens = targets[i]  # Ground truth as next token\n",
    "            else:\n",
    "                soft_scores = torch.softmax(scores, dim=1)\n",
    "                curr_tokens = torch.argmax(scores, dim=1) # predicted output as next token\n",
    "            \n",
    "        return loss.sum() / target_lengths.sum() # sum (loss per batch) / (length of each seq in the batch)\n",
    "\n",
    "    def predict(self, enc_outs, curr_tokens, maxlen):\n",
    "        preds = [] # list to append predictions\n",
    "        # curr_tokens shape: batch_size\n",
    "\n",
    "        device = enc_outs.device\n",
    "        state = self.init_state(device, len(curr_tokens))\n",
    "        \n",
    "        # loop through for predict batch_size tokens at each time step for batch_size seuquences \n",
    "        # maxlen is max_seq_len_target\n",
    "        \n",
    "        for i in range(maxlen):\n",
    "            inp = curr_tokens #batch_size x emb_dim\n",
    "            emb = self.emb(inp) #batch_size x emb_dim\n",
    "            state = self.lstm(emb, state) #batch_size x lstm_size\n",
    "            q_i, _ = state\n",
    "            combined = self.attn(q_i, enc_outs)  # batch_size x lstm_size*2\n",
    "            scores = self.clf(combined) # batch_size x tgt_vocab_len\n",
    "            scores = torch.softmax(scores, dim=1 ) # batch_size x tgt_vocab_len\n",
    "            pred = torch.argmax(scores, dim=1) # batch_size\n",
    "            curr_tokens = pred # batch_size\n",
    "                \n",
    "            preds.append(pred)\n",
    "        \n",
    "        # transpose the predicted output to batch_size x max_seq_len_target\n",
    "        # use len(target sequence) or <stop> token to remove extra predicted words\n",
    "        \n",
    "        finalpreds =  []\n",
    "        for j in range(len(preds[0])): # loop throgh batch\n",
    "            temp = []\n",
    "            for i in range(len(preds)): # for 0 to len(sequences)\n",
    "                l = preds[i].cpu().data.numpy() \n",
    "                if(l[j] != STOP_IX): # if not a <stop> token\n",
    "                    temp.append(l[j]) # append to sequence\n",
    "            finalpreds.append(temp) # append to sequence to batch     \n",
    "        return finalpreds, preds "
   ]
  },
  {
   "cell_type": "markdown",
   "metadata": {
    "colab_type": "text",
    "id": "jZJVWiK16FtI"
   },
   "source": [
    "# Traning\n",
    "\n",
    "### Utility Functions"
   ]
  },
  {
   "cell_type": "code",
   "execution_count": 55,
   "metadata": {},
   "outputs": [],
   "source": [
    "# function to track best model at training epochs, modified from RNN tutorial\n",
    "def track_best_model(model_path, encoder, decoder, epoch, best_acc, dev_acc):\n",
    "    if best_acc > dev_acc:\n",
    "        return best_acc, ''\n",
    "    state = {\n",
    "        'epoch': epoch,\n",
    "        'acc': dev_acc,\n",
    "        'encoder': encoder.state_dict(),\n",
    "        'decoder': decoder.state_dict()\n",
    "    }\n",
    "    torch.save(state, model_path)\n",
    "    return dev_acc, ' # BEST # '\n",
    "\n",
    "# same as base model\n",
    "def shuffle(x, y):\n",
    "    pack = list(zip(x, y))\n",
    "    random.shuffle(pack)\n",
    "    return zip(*pack)\n",
    "\n",
    "def currenttime():\n",
    "    return datetime.datetime.now().strftime(\"%Y%m%d_%H%M\")"
   ]
  },
  {
   "cell_type": "code",
   "execution_count": 56,
   "metadata": {},
   "outputs": [],
   "source": [
    "# functions to convert int sequence to char sequence in batches\n",
    "# LIMITATION: order of original input-target pair is not sorted, how for packing & unpacking at batched encoder they were sorted\n",
    "# Hence, output of prediction from decoder is sorted as well, needs to update the fucnctions or adjust accordingly \n",
    "\n",
    "# funciton to convert int sequences to char sequence (string)\n",
    "def itow(tokenlist, vocab, sep=''):\n",
    "    return ''.join(vocab.itos[i] for i in tokenlist)\n",
    "\n",
    "# convert batch predictions of int sequences to char sequence\n",
    "# same batch has sequences with different length\n",
    "def convert(predcitionlist, target_lengths, vocab):\n",
    "    #print(vocab)\n",
    "    target_lengths = target_lengths.data.cpu().numpy()\n",
    "    result = []\n",
    "    for i in range(len(predcitionlist)):\n",
    "        pred = predcitionlist[i][:target_lengths[i]]\n",
    "        \n",
    "        word =\"\"\n",
    "        for token in pred:\n",
    "            if(token==STOP_IX or token==PAD_IX):\n",
    "                break\n",
    "            else:\n",
    "                word += vocab.itos[token]  \n",
    "\n",
    "        result.append(word)\n",
    "        \n",
    "    return result\n",
    "\n",
    "# function to get accurary of a batch of input\n",
    "# LIMITATION: works for batch_size=1 only, discussed before\n",
    "def accuracy(encoder, decoder, input_x,input_y):\n",
    "    encoder.eval()\n",
    "    decoder.eval()\n",
    "      \n",
    "    start_batch_inputs = torch.LongTensor([START_IX] * len(input_x)).to(device) #start with <start> token x batch_size\n",
    "    input_input_var, input_input_lengths, input_target_var, input_target_lengths = process_batch(input_x,input_y)\n",
    "    \n",
    "    seq_pairs = sorted(zip(input_x,input_y), key=lambda p: len(p[0]), reverse=True)\n",
    "    input_x,input_y = zip(*seq_pairs)\n",
    "    \n",
    "    maxlen = max(input_target_lengths.data.cpu().numpy())    \n",
    "    encoder_state = encoder(input_input_var, input_input_lengths)\n",
    "    predictions, rawpred = decoder.predict(encoder_state, start_batch_inputs, maxlen=maxlen)\n",
    "\n",
    "    # LIMITATION: order of input_y_converted and predic_converted are not same\n",
    "    input_x_converted = convert(input_x, input_input_lengths,tgt_vocab)\n",
    "    input_y_converted = convert(input_y, input_target_lengths,tgt_vocab) \n",
    "    predic_converted = convert(predictions, input_target_lengths,tgt_vocab)\n",
    "\n",
    "    count = 0\n",
    "    for i in range(len(input_x)):\n",
    "        if input_y_converted[i]==predic_converted[i]:\n",
    "            count+=1      \n",
    "    return (count/len(input_x))\n",
    "\n",
    "# function to overcome accuracy fucntion's limitation to get accurary for batches\n",
    "def batchaccuracy(encoderloaded, decoderloaded, test_x, test_y):\n",
    "    total = 0\n",
    "    for i in range(len(test_x)):\n",
    "        total += accuracy(encoderloaded, decoderloaded, [test_x[i]], [test_y[i]])\n",
    "    return total/len(test_x) "
   ]
  },
  {
   "cell_type": "code",
   "execution_count": 57,
   "metadata": {},
   "outputs": [],
   "source": [
    "def evaluation(encoder, decoder, input_x, input_y, batch_size):\n",
    "    encoder.eval()\n",
    "    decoder.eval()\n",
    "    \n",
    "    total_loss = 0 \n",
    "    for i in range(len(input_x)//batch_size):\n",
    "        x = input_x[i*batch_size:(i+1)*batch_size]\n",
    "        y = input_y[i*batch_size:(i+1)*batch_size]\n",
    "            \n",
    "        input_var, input_lengths, target_var, target_lengths = process_batch(x,y)\n",
    "        start_inputs = torch.LongTensor([START_IX] * batch_size).to(device)\n",
    "            \n",
    "        total_loss += decoder(encoder(input_var, input_lengths),target_var, target_lengths, start_inputs)\n",
    "    return total_loss.item()"
   ]
  },
  {
   "cell_type": "markdown",
   "metadata": {},
   "source": [
    "### Train Function"
   ]
  },
  {
   "cell_type": "code",
   "execution_count": 58,
   "metadata": {
    "colab": {},
    "colab_type": "code",
    "id": "S5LennHN6FtJ"
   },
   "outputs": [],
   "source": [
    "def train(savefilename, encoder, decoder, train_x, train_y, train_size, valid_x, valid_y,valid_size, batch_size=50, valid_batch_size=50, \n",
    "          epochs=10, print_every=1, plot_every=1):\n",
    "    device = torch.device('cuda' if torch.cuda.is_available() else 'cpu')\n",
    "    \n",
    "    assert(len(train_x) == len(train_y))\n",
    "    assert(len(valid_x) == len(valid_y))\n",
    "    \n",
    "    train_losses = []\n",
    "    valid_losses = []\n",
    "    \n",
    "    encoder.to(device)\n",
    "    decoder.to(device)\n",
    "\n",
    "    enc_optim = optim.SGD(encoder.parameters(), lr=0.001, momentum=0.99)\n",
    "    dec_optim = optim.SGD(decoder.parameters(), lr=0.001, momentum=0.99)\n",
    "\n",
    "    best_acc=0\n",
    "    \n",
    "    for epoch in range(1, epochs+1):\n",
    "        encoder.train()\n",
    "        decoder.train()\n",
    "\n",
    "        \n",
    "        encoder.zero_grad(); enc_optim.zero_grad()\n",
    "        decoder.zero_grad(); dec_optim.zero_grad()\n",
    "\n",
    "        train_x, train_y = shuffle(train_x, train_y)\n",
    "        train_x, train_y = train_x[:train_size], train_y[:train_size]\n",
    "        \n",
    "        epoch_train_loss = 0\n",
    "        epoch_valid_loss = 0\n",
    "        \n",
    "        val_acc = 0\n",
    "        epoch_track =''\n",
    "        \n",
    "        for i in range(len(train_x)//batch_size):\n",
    "            x = train_x[i*batch_size:(i+1)*batch_size]\n",
    "            y = train_y[i*batch_size:(i+1)*batch_size]\n",
    "            \n",
    "            input_var, input_lengths, target_var, target_lengths = process_batch(x,y)\n",
    "            \n",
    "            start_inputs = torch.LongTensor([START_IX] * batch_size).to(device)\n",
    "            \n",
    "            batch_loss = decoder(encoder(input_var, input_lengths),target_var, target_lengths, start_inputs)\n",
    "            \n",
    "            batch_loss.backward()\n",
    "            enc_optim.step()\n",
    "            dec_optim.step()\n",
    "\n",
    "            encoder.zero_grad(); enc_optim.zero_grad()\n",
    "            decoder.zero_grad(); dec_optim.zero_grad()\n",
    "\n",
    "            epoch_train_loss += batch_loss.item()\n",
    "            #batch_loss = 0\n",
    "            \n",
    "            \n",
    "            del x, y, input_var, input_lengths, target_var, target_lengths \n",
    "    \n",
    "\n",
    "        #VALIDATION\n",
    "        \n",
    "        encoder.train(False)\n",
    "        decoder.train(False)\n",
    "        \n",
    "        \n",
    "        valid_x, valid_y = shuffle(valid_x, valid_y)\n",
    "        valid_x, valid_y =valid_x[:valid_size], valid_y[:valid_size] \n",
    "        \n",
    "        epoch_train_loss = epoch_train_loss / (len(train_x)//batch_size)\n",
    "        epoch_valid_loss = evaluation(encoder, decoder, valid_x, valid_y, valid_batch_size) / (len(valid_x)//valid_batch_size)\n",
    "  \n",
    "        train_losses.append(epoch_train_loss)\n",
    "        valid_losses.append(epoch_valid_loss)\n",
    "        \n",
    "        if epoch % print_every == 0:\n",
    "            accuracy_total_valid = 0\n",
    "            for v in range(len(valid_x)//valid_batch_size):\n",
    "                vx = valid_x[v*valid_batch_size:(v+1)*valid_batch_size]\n",
    "                vy = valid_y[v*valid_batch_size:(v+1)*valid_batch_size]\n",
    "                val_input_batches, val_input_lengths, val_target_batches, val_target_lengths= process_batch(valid_x, valid_y)\n",
    "                accuracy_total_valid += batchaccuracy(encoder, decoder, vx,vy)\n",
    "            val_acc = accuracy_total_valid / (len(valid_x)//valid_batch_size)\n",
    "\n",
    "            #tracks and saves the best model\n",
    "            best_acc, epoch_track = track_best_model(savefilename+'-BEST.pt', encoder, decoder , epoch, best_acc, val_acc)\n",
    "            \n",
    "            print(f\"**** Epoch {epoch} - Train Loss: {epoch_train_loss:.6f} - Valid Loss: {epoch_valid_loss:.6f} - Validaiton Accuracy: {val_acc:.4f} **** \"+\\\n",
    "                  currenttime()+ \" \"+epoch_track )     \n",
    "\n",
    "    return encoder, decoder, train_losses, valid_losses"
   ]
  },
  {
   "cell_type": "markdown",
   "metadata": {},
   "source": [
    "### Model Parameters"
   ]
  },
  {
   "cell_type": "code",
   "execution_count": 59,
   "metadata": {},
   "outputs": [],
   "source": [
    "train_size = 20000\n",
    "valid_size = 5000\n",
    "batch_size = 10\n",
    "epochs = 10\n",
    "attention = True\n",
    "print_every = 1\n",
    "teacher_forcing_ratio=1.0\n",
    "attn_size = 100"
   ]
  },
  {
   "cell_type": "markdown",
   "metadata": {},
   "source": [
    "### Model-1 Definitions  (No Attention)"
   ]
  },
  {
   "cell_type": "code",
   "execution_count": 60,
   "metadata": {},
   "outputs": [
    {
     "name": "stdout",
     "output_type": "stream",
     "text": [
      "BatchEncoder(\n",
      "  (emb): Embedding(27, 64, padding_idx=0)\n",
      "  (lstm): LSTM(64, 128, batch_first=True)\n",
      "  (drop): Dropout(p=0.1, inplace=False)\n",
      ")\n",
      "BatchDecoder(\n",
      "  (emb): Embedding(29, 64, padding_idx=0)\n",
      "  (lstm): LSTMCell(64, 128)\n",
      "  (clf): Linear(in_features=128, out_features=29, bias=True)\n",
      "  (drop): Dropout(p=0.5, inplace=False)\n",
      "  (objective): CrossEntropyLoss()\n",
      ")\n"
     ]
    }
   ],
   "source": [
    "#encoder decoder without attention\n",
    "encoder1 = BatchEncoder(vocab_size=len(src_vocab), emb_dim=64, lstm_size=128, z_type=1)\n",
    "decoder1 = BatchDecoder(vocab_size=len(tgt_vocab), emb_dim=64, lstm_size=128)\n",
    "\n",
    "#encoder decoder with attention\n",
    "#encoder = BatchEncoder(vocab_size=len(src_vocab), emb_dim=64, lstm_size=128, z_type=0)\n",
    "#decoder = BatchAttentionDecoder(vocab_size=len(tgt_vocab), emb_dim=64, lstm_size=128, attn_size=attn_size, teacher_forcing_ratio = teacher_forcing_ratio)\n",
    "\n",
    "print(encoder1)\n",
    "print(decoder1)    "
   ]
  },
  {
   "cell_type": "markdown",
   "metadata": {},
   "source": [
    "### Load or Train the Model-1 (No Attention)"
   ]
  },
  {
   "cell_type": "code",
   "execution_count": 61,
   "metadata": {},
   "outputs": [
    {
     "name": "stdout",
     "output_type": "stream",
     "text": [
      "**** Epoch 1 - Train Loss: 2.410730 - Valid Loss: 1.930187 - Validaiton Accuracy: 0.0000 **** 20200410_0744  # BEST # \n",
      "**** Epoch 2 - Train Loss: 1.658312 - Valid Loss: 1.080642 - Validaiton Accuracy: 0.0690 **** 20200410_0754  # BEST # \n",
      "**** Epoch 3 - Train Loss: 1.055140 - Valid Loss: 0.501405 - Validaiton Accuracy: 0.3400 **** 20200410_0804  # BEST # \n",
      "**** Epoch 4 - Train Loss: 0.635189 - Valid Loss: 0.215385 - Validaiton Accuracy: 0.6684 **** 20200410_0813  # BEST # \n",
      "**** Epoch 5 - Train Loss: 0.365940 - Valid Loss: 0.086178 - Validaiton Accuracy: 0.8646 **** 20200410_0823  # BEST # \n",
      "**** Epoch 6 - Train Loss: 0.220170 - Valid Loss: 0.036451 - Validaiton Accuracy: 0.9448 **** 20200410_0833  # BEST # \n",
      "**** Epoch 7 - Train Loss: 0.145917 - Valid Loss: 0.024169 - Validaiton Accuracy: 0.9608 **** 20200410_0843  # BEST # \n",
      "**** Epoch 8 - Train Loss: 0.102736 - Valid Loss: 0.012598 - Validaiton Accuracy: 0.9812 **** 20200410_0853  # BEST # \n",
      "**** Epoch 9 - Train Loss: 0.080204 - Valid Loss: 0.011678 - Validaiton Accuracy: 0.9802 **** 20200410_0903 \n",
      "**** Epoch 10 - Train Loss: 0.063039 - Valid Loss: 0.006561 - Validaiton Accuracy: 0.9888 **** 20200410_0912  # BEST # \n"
     ]
    }
   ],
   "source": [
    "savedmodelpath = 'model-1.pt'\n",
    "# check if model exists, then load\n",
    "if path.exists(savedmodelpath):\n",
    "    state_dict = torch.load(savedmodelpath)\n",
    "    encoder1.load_state_dict(state_dict['encoder'])\n",
    "    decoder1.load_state_dict(state_dict['decoder'])\n",
    "# if model doesn't exiting train the model\n",
    "else:\n",
    "    savefilename = 'model_no-attn-batched-'+currenttime()\n",
    "    encoder1, decoder1, train_losses1,valid_losses1 = train(savefilename, encoder1, decoder1, train_x, train_y, train_size, valid_x, \n",
    "                         valid_y,valid_size, batch_size=batch_size, valid_batch_size=batch_size, epochs=epochs, print_every=1, plot_every=1)\n",
    "    torch.save({'encoder': encoder1.state_dict(),'decoder': decoder1.state_dict()}, savefilename+'-final.pt')"
   ]
  },
  {
   "cell_type": "markdown",
   "metadata": {},
   "source": [
    "### Model Definitions"
   ]
  },
  {
   "cell_type": "code",
   "execution_count": 62,
   "metadata": {},
   "outputs": [
    {
     "name": "stdout",
     "output_type": "stream",
     "text": [
      "BatchEncoder(\n",
      "  (emb): Embedding(27, 64, padding_idx=0)\n",
      "  (lstm): LSTM(64, 128, batch_first=True)\n",
      "  (drop): Dropout(p=0.1, inplace=False)\n",
      ")\n",
      "BatchAttentionDecoder(\n",
      "  (emb): Embedding(29, 64, padding_idx=0)\n",
      "  (lstm): LSTMCell(64, 128)\n",
      "  (attn): BatchAttention(\n",
      "    (W): Linear(in_features=256, out_features=100, bias=True)\n",
      "    (v): Linear(in_features=100, out_features=1, bias=False)\n",
      "  )\n",
      "  (clf): Linear(in_features=256, out_features=29, bias=True)\n",
      "  (drop): Dropout(p=0.5, inplace=False)\n",
      "  (objective): CrossEntropyLoss()\n",
      ")\n"
     ]
    }
   ],
   "source": [
    "#encoder decoder without attention\n",
    "#encoder = BatchEncoder(vocab_size=len(src_vocab), emb_dim=64, lstm_size=128, z_type=1)\n",
    "#decoder = BatchDecoder(vocab_size=len(tgt_vocab), emb_dim=64, lstm_size=128)\n",
    "#encoder decoder with attention\n",
    "encoder2 = BatchEncoder(vocab_size=len(src_vocab), emb_dim=64, lstm_size=128, z_type=0)\n",
    "decoder2 = BatchAttentionDecoder(vocab_size=len(tgt_vocab), emb_dim=64, lstm_size=128, attn_size=attn_size, teacher_forcing_ratio = teacher_forcing_ratio)\n",
    "\n",
    "print(encoder2)\n",
    "print(decoder2)    "
   ]
  },
  {
   "cell_type": "markdown",
   "metadata": {},
   "source": [
    "### Load or Train the Model"
   ]
  },
  {
   "cell_type": "code",
   "execution_count": 63,
   "metadata": {},
   "outputs": [
    {
     "name": "stdout",
     "output_type": "stream",
     "text": [
      "**** Epoch 1 - Train Loss: 2.233419 - Valid Loss: 1.311370 - Validaiton Accuracy: 0.0166 **** 20200410_0923  # BEST # \n",
      "**** Epoch 2 - Train Loss: 0.935489 - Valid Loss: 0.308623 - Validaiton Accuracy: 0.5738 **** 20200410_0934  # BEST # \n",
      "**** Epoch 3 - Train Loss: 0.340313 - Valid Loss: 0.073064 - Validaiton Accuracy: 0.8882 **** 20200410_0945  # BEST # \n",
      "**** Epoch 4 - Train Loss: 0.171135 - Valid Loss: 0.040715 - Validaiton Accuracy: 0.9274 **** 20200410_0956  # BEST # \n",
      "**** Epoch 5 - Train Loss: 0.116868 - Valid Loss: 0.024313 - Validaiton Accuracy: 0.9550 **** 20200410_1007  # BEST # \n",
      "**** Epoch 6 - Train Loss: 0.089508 - Valid Loss: 0.016572 - Validaiton Accuracy: 0.9684 **** 20200410_1017  # BEST # \n",
      "**** Epoch 7 - Train Loss: 0.066823 - Valid Loss: 0.011105 - Validaiton Accuracy: 0.9736 **** 20200410_1028  # BEST # \n",
      "**** Epoch 8 - Train Loss: 0.058287 - Valid Loss: 0.011745 - Validaiton Accuracy: 0.9654 **** 20200410_1039 \n",
      "**** Epoch 9 - Train Loss: 0.051461 - Valid Loss: 0.009020 - Validaiton Accuracy: 0.9714 **** 20200410_1050 \n",
      "**** Epoch 10 - Train Loss: 0.044127 - Valid Loss: 0.007839 - Validaiton Accuracy: 0.9766 **** 20200410_1101  # BEST # \n"
     ]
    }
   ],
   "source": [
    "savedmodelpath = 'model.pt'\n",
    "# check if model exists, then load\n",
    "if path.exists(savedmodelpath):\n",
    "    state_dict = torch.load(savedmodelpath)\n",
    "    encoder2.load_state_dict(state_dict['encoder'])\n",
    "    decoder2.load_state_dict(state_dict['decoder'])\n",
    "# if model doesn't exiting train the model\n",
    "else:\n",
    "    savefilename = 'model_attn-batched-'+currenttime()\n",
    "    encoder2, decoder2, train_losses2,valid_losses2 = train(savefilename, encoder2, decoder2, train_x, train_y, train_size, valid_x, \n",
    "                         valid_y,valid_size, batch_size=batch_size, valid_batch_size=batch_size, epochs=epochs, print_every=1, plot_every=1)\n",
    "    torch.save({'encoder': encoder2.state_dict(),'decoder': decoder2.state_dict()}, savefilename+'-final.pt')"
   ]
  },
  {
   "cell_type": "markdown",
   "metadata": {},
   "source": [
    "### Plotting Training and Validation Loss"
   ]
  },
  {
   "cell_type": "code",
   "execution_count": 73,
   "metadata": {},
   "outputs": [
    {
     "data": {
      "image/png": "[encoded data removed]",
      "text/plain": [
       "<Figure size 432x288 with 1 Axes>"
      ]
     },
     "metadata": {
      "needs_background": "light"
     },
     "output_type": "display_data"
    }
   ],
   "source": [
    "%matplotlib inline\n",
    "import matplotlib.pyplot as plt\n",
    "import numpy as np\n",
    "\n",
    "x = np.arange(epochs)\n",
    "\n",
    "plt.plot(x, train_losses1, label=\"Model-1: Training Loss\")\n",
    "plt.plot(x, valid_losses1, label=\"Model-1: Validation Loss\")\n",
    "plt.plot(x, train_losses2, label=\"Model-2: Training Loss (Attn)\")\n",
    "plt.plot(x, valid_losses2, label=\"Model-2: Validation Loss (Attn)\")\n",
    "plt.legend(bbox_to_anchor=(1.05, 1), loc='upper left', borderaxespad=0.)\n",
    "plt.show()"
   ]
  },
  {
   "cell_type": "markdown",
   "metadata": {},
   "source": [
    "# Evaluation"
   ]
  },
  {
   "cell_type": "code",
   "execution_count": 65,
   "metadata": {},
   "outputs": [],
   "source": [
    "test_data = pd.read_csv('test.txt', delimiter='\\t', header=None, usecols=[0,1])\n",
    "test_inp, test_out = test_data[0], test_data[1]\n",
    "test_x = map_many_elems(test_inp, src_vocab.stoi, istarget=False)\n",
    "test_y = map_many_elems(test_out, tgt_vocab.stoi, istarget=True)"
   ]
  },
  {
   "cell_type": "code",
   "execution_count": 66,
   "metadata": {},
   "outputs": [
    {
     "name": "stdout",
     "output_type": "stream",
     "text": [
      "Model-1 (No Attention) Test Accuracy: 0.9362\n"
     ]
    }
   ],
   "source": [
    "print(\"Model-1 (No Attention) Test Accuracy:\", batchaccuracy(encoder1, decoder1, test_x, test_y))"
   ]
  },
  {
   "cell_type": "code",
   "execution_count": 67,
   "metadata": {},
   "outputs": [
    {
     "name": "stdout",
     "output_type": "stream",
     "text": [
      "Model-2 (Attention) Test Accuracy: 0.977\n"
     ]
    }
   ],
   "source": [
    "print(\"Model-2 (Attention) Test Accuracy:\", batchaccuracy(encoder2, decoder2, test_x, test_y))"
   ]
  },
  {
   "cell_type": "markdown",
   "metadata": {},
   "source": [
    "# Analysis"
   ]
  },
  {
   "cell_type": "markdown",
   "metadata": {},
   "source": [
    "In this section, different performance metrics are analyzed for following two designed models. \n",
    "<br/> <b>Model-1: Batched Sequence-to-Sequence</b>\n",
    "<br/> <b>Model-2: Batched Sequence-to-Sequence with Attention</b>\n",
    "\n",
    "Models were tested with different batch size, epochs and teacher forcing ratio on GPU (Colab) and CPU (PC).\n",
    "\n",
    "<b>GPU vs CPU Performance.</b> As expected, system with GPU (Colab) performed almost three times faster to achieve similar validation accurary while keeping other parameters same.\n",
    "\n",
    "|   System  | Model-Type | Epoch-5 | Teacher-Forcing | BatchSize | Avg Time (Minutes) | Validation Accuracy |\n",
    "|:---------:|------------|--------:|----------------:|----------:|-------------------:|--------------------:|\n",
    "| GPU-Colab | Attn       |       5 |               1 |        10 |                  7 |              97.12% |\n",
    "| CPU       | Attn       |       5 |               1 |        10 |                 20 |              97.64% |\n",
    "\n",
    "<b>Batch Size.</b> On the same system (example Colab GPU), for constant teacher forcing ratio increase Batch Size takes lesser time for each epoch but, validation accuracy was lower after same number of epochs. The training data sets were not sorted. As a result batches required random padding. Training data could be sorted ('bucketing' technique) to minimize the padded and then batches could be randomly selected for training. More padding required the batches to run longer for the largest sequence in the batch.\n",
    "\n",
    "|   System  | Model-Type | Epoch-5 | Teacher Forcing | Batch Size | Avg Time (Minutes) | Validation Accuracy |\n",
    "|:---------:|------------|:-------:|:---------------:|:----------:|:------------------:|:-------------------:|\n",
    "| GPU-Colab | Attn       |    5    |        1        |      5     |         16         |        99.10%       |\n",
    "| GPU-Colab | Attn       |    5    |        1        |     10     |          7         |        97.12%       |\n",
    "| GPU-Colab | Attn       |    5    |        1        |     25     |          4         |        67.30%       |\n",
    "\n",
    "<b>Teacher Forcing.</b> Models had slower convergence when teacher forcing ratio was set to 50%. Lower teacher forcing ratio is expected to slowdown the convergence and cause instability. Without teacher forcing, sequence prediction models use the output from the last time step y(t-1) as input for the model at the current time step X(t).  Teacher forcing works by using the actual or expected output from the training dataset at the current time step y(t) as input in the next time step X(t+1), rather than the output generated by the network.\n",
    "\n",
    "| System | Model-Type | Epoch-5 | Teacher-Forcing | BatchSize | Avg Time (Minutes) | Validation Accuracy |\n",
    "|:------:|------------|--------:|----------------:|----------:|-------------------:|--------------------:|\n",
    "| CPU    | Attn       |       5 |               1 |        10 |                 20 |              97.64% |\n",
    "| CPU    | Attn       |       5 |             0.5 |        10 |                N/R |              91.34% |\n",
    "\n",
    "<b>Attention.</b> Model with Attention works faster and achieves better validation accurary (result shows one sample experiment for comparison, best model was trained with 50 epochs for best accuracy). \n",
    "\n",
    "| System | Model-Type | Epoch-5 | Teacher-Forcing | BatchSize | Avg Time (Minutes) | Validation Accuracy |\n",
    "|:------:|------------|--------:|----------------:|----------:|-------------------:|--------------------:|\n",
    "| CPU    | Attn       |      10 |               1 |        10 |                 10 |              97.70% |\n",
    "| CPU    | No Attn    |      10 |               1 |        10 |                  9 |              93.62% |\n",
    "\n",
    "\n"
   ]
  },
  {
   "cell_type": "markdown",
   "metadata": {},
   "source": [
    "# References"
   ]
  },
  {
   "cell_type": "markdown",
   "metadata": {},
   "source": [
    "I referred to class tutorial [1] and following online examples to implement the models:\n",
    "1. https://github.com/gaguilar/basic_nlp_tutorial/\n",
    "2. https://medium.com/@adam.wearne/seq2seq-with-pytorch-46dc00ff5164\n",
    "3. https://github.com/RRisto/seq2seq\n",
    "4. https://github.com/howardyclo/pytorch-seq2seq-example\n",
    "5. https://towardsdatascience.com/understanding-encoder-decoder-sequence-to-sequence-model-679e04af4346\n",
    "6. https://towardsdatascience.com/tuned-version-of-seq2seq-tutorial-ddb64db46e2a\n",
    "7. https://github.com/pengyuchen/PyTorch-Batch-Seq2seq\n",
    "8. https://github.com/spro/practical-pytorch/\n",
    "9. https://machinelearningmastery.com/teacher-forcing-for-recurrent-neural-networks/\n"
   ]
  }
 ],
 "metadata": {
  "kernelspec": {
   "display_name": "Python 3",
   "language": "python",
   "name": "python3"
  },
  "language_info": {
   "codemirror_mode": {
    "name": "ipython",
    "version": 3
   },
   "file_extension": ".py",
   "mimetype": "text/x-python",
   "name": "python",
   "nbconvert_exporter": "python",
   "pygments_lexer": "ipython3",
   "version": "3.7.7"
  }
 },
 "nbformat": 4,
 "nbformat_minor": 4
}
